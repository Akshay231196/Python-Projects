{
 "cells": [
  {
   "cell_type": "markdown",
   "id": "b5a0675a",
   "metadata": {},
   "source": [
    "### Task 1: Import required Libraries"
   ]
  },
  {
   "cell_type": "code",
   "execution_count": 1,
   "id": "63a8fb15",
   "metadata": {},
   "outputs": [
    {
     "name": "stderr",
     "output_type": "stream",
     "text": [
      "C:\\Users\\ashis\\anaconda3\\Lib\\site-packages\\pandas\\core\\arrays\\masked.py:60: UserWarning: Pandas requires version '1.3.6' or newer of 'bottleneck' (version '1.3.5' currently installed).\n",
      "  from pandas.core import (\n"
     ]
    }
   ],
   "source": [
    "import pandas as pd\n",
    "import numpy as np\n",
    "import seaborn as sns\n",
    "import matplotlib.pyplot as plt\n",
    "%matplotlib inline"
   ]
  },
  {
   "cell_type": "markdown",
   "id": "85b57b5b",
   "metadata": {},
   "source": [
    "### Task 2: Load the Country-data.csv and check the head of Dataframe"
   ]
  },
  {
   "cell_type": "code",
   "execution_count": 2,
   "id": "3975f1f5",
   "metadata": {},
   "outputs": [],
   "source": [
    "df = pd.read_csv('Country-data.csv')"
   ]
  },
  {
   "cell_type": "code",
   "execution_count": 3,
   "id": "cf3a6ecf",
   "metadata": {},
   "outputs": [
    {
     "data": {
      "text/html": [
       "<div>\n",
       "<style scoped>\n",
       "    .dataframe tbody tr th:only-of-type {\n",
       "        vertical-align: middle;\n",
       "    }\n",
       "\n",
       "    .dataframe tbody tr th {\n",
       "        vertical-align: top;\n",
       "    }\n",
       "\n",
       "    .dataframe thead th {\n",
       "        text-align: right;\n",
       "    }\n",
       "</style>\n",
       "<table border=\"1\" class=\"dataframe\">\n",
       "  <thead>\n",
       "    <tr style=\"text-align: right;\">\n",
       "      <th></th>\n",
       "      <th>country</th>\n",
       "      <th>child_mort</th>\n",
       "      <th>exports</th>\n",
       "      <th>health</th>\n",
       "      <th>imports</th>\n",
       "      <th>income</th>\n",
       "      <th>inflation</th>\n",
       "      <th>life_expec</th>\n",
       "      <th>total_fer</th>\n",
       "      <th>gdpp</th>\n",
       "    </tr>\n",
       "  </thead>\n",
       "  <tbody>\n",
       "    <tr>\n",
       "      <th>0</th>\n",
       "      <td>Afghanistan</td>\n",
       "      <td>90.2</td>\n",
       "      <td>10.0</td>\n",
       "      <td>7.58</td>\n",
       "      <td>44.9</td>\n",
       "      <td>1610</td>\n",
       "      <td>9.44</td>\n",
       "      <td>56.2</td>\n",
       "      <td>5.82</td>\n",
       "      <td>553</td>\n",
       "    </tr>\n",
       "    <tr>\n",
       "      <th>1</th>\n",
       "      <td>Albania</td>\n",
       "      <td>16.6</td>\n",
       "      <td>28.0</td>\n",
       "      <td>6.55</td>\n",
       "      <td>48.6</td>\n",
       "      <td>9930</td>\n",
       "      <td>4.49</td>\n",
       "      <td>76.3</td>\n",
       "      <td>1.65</td>\n",
       "      <td>4090</td>\n",
       "    </tr>\n",
       "    <tr>\n",
       "      <th>2</th>\n",
       "      <td>Algeria</td>\n",
       "      <td>27.3</td>\n",
       "      <td>38.4</td>\n",
       "      <td>4.17</td>\n",
       "      <td>31.4</td>\n",
       "      <td>12900</td>\n",
       "      <td>16.10</td>\n",
       "      <td>76.5</td>\n",
       "      <td>2.89</td>\n",
       "      <td>4460</td>\n",
       "    </tr>\n",
       "    <tr>\n",
       "      <th>3</th>\n",
       "      <td>Angola</td>\n",
       "      <td>119.0</td>\n",
       "      <td>62.3</td>\n",
       "      <td>2.85</td>\n",
       "      <td>42.9</td>\n",
       "      <td>5900</td>\n",
       "      <td>22.40</td>\n",
       "      <td>60.1</td>\n",
       "      <td>6.16</td>\n",
       "      <td>3530</td>\n",
       "    </tr>\n",
       "    <tr>\n",
       "      <th>4</th>\n",
       "      <td>Antigua and Barbuda</td>\n",
       "      <td>10.3</td>\n",
       "      <td>45.5</td>\n",
       "      <td>6.03</td>\n",
       "      <td>58.9</td>\n",
       "      <td>19100</td>\n",
       "      <td>1.44</td>\n",
       "      <td>76.8</td>\n",
       "      <td>2.13</td>\n",
       "      <td>12200</td>\n",
       "    </tr>\n",
       "  </tbody>\n",
       "</table>\n",
       "</div>"
      ],
      "text/plain": [
       "               country  child_mort  exports  health  imports  income  \\\n",
       "0          Afghanistan        90.2     10.0    7.58     44.9    1610   \n",
       "1              Albania        16.6     28.0    6.55     48.6    9930   \n",
       "2              Algeria        27.3     38.4    4.17     31.4   12900   \n",
       "3               Angola       119.0     62.3    2.85     42.9    5900   \n",
       "4  Antigua and Barbuda        10.3     45.5    6.03     58.9   19100   \n",
       "\n",
       "   inflation  life_expec  total_fer   gdpp  \n",
       "0       9.44        56.2       5.82    553  \n",
       "1       4.49        76.3       1.65   4090  \n",
       "2      16.10        76.5       2.89   4460  \n",
       "3      22.40        60.1       6.16   3530  \n",
       "4       1.44        76.8       2.13  12200  "
      ]
     },
     "execution_count": 3,
     "metadata": {},
     "output_type": "execute_result"
    }
   ],
   "source": [
    "df.head()"
   ]
  },
  {
   "cell_type": "markdown",
   "id": "68e245e6",
   "metadata": {},
   "source": [
    "### Task 3: Define X as the numerical features in the Data. Then scale the data"
   ]
  },
  {
   "cell_type": "code",
   "execution_count": 4,
   "id": "60c195dd",
   "metadata": {},
   "outputs": [],
   "source": [
    "X = df[df.columns[1:]]"
   ]
  },
  {
   "cell_type": "code",
   "execution_count": 5,
   "id": "4e56e7a4",
   "metadata": {},
   "outputs": [],
   "source": [
    "from sklearn.preprocessing import StandardScaler"
   ]
  },
  {
   "cell_type": "code",
   "execution_count": 6,
   "id": "cd505ea8",
   "metadata": {},
   "outputs": [],
   "source": [
    "# Standardize the features\n",
    "scaler = StandardScaler()\n",
    "X_scaled = scaler.fit_transform(X)"
   ]
  },
  {
   "cell_type": "markdown",
   "id": "be491a75",
   "metadata": {},
   "source": [
    "### Task 4: Import PCA from sklearn.decomposition and apply PCA to convert data into a 2 dimensional data."
   ]
  },
  {
   "cell_type": "code",
   "execution_count": 7,
   "id": "e942961f",
   "metadata": {},
   "outputs": [],
   "source": [
    "from sklearn.decomposition import PCA"
   ]
  },
  {
   "cell_type": "code",
   "execution_count": 8,
   "id": "17ec5560",
   "metadata": {},
   "outputs": [],
   "source": [
    "# Apply PCA\n",
    "pca = PCA(n_components=2)\n",
    "X_pca = pca.fit_transform(X_scaled)"
   ]
  },
  {
   "cell_type": "markdown",
   "id": "9bfc46d6",
   "metadata": {},
   "source": [
    "### Task 5: Create a new Dataframe with columns Country and the new components (z1 and z2)"
   ]
  },
  {
   "cell_type": "code",
   "execution_count": 9,
   "id": "392f446e",
   "metadata": {},
   "outputs": [],
   "source": [
    "z1 = X_pca[:,0]\n",
    "z2 = X_pca[:,1]"
   ]
  },
  {
   "cell_type": "code",
   "execution_count": 10,
   "id": "e5126e76",
   "metadata": {},
   "outputs": [],
   "source": [
    "df_2d = pd.DataFrame()\n",
    "df_2d['Country'] = df['country'].values\n",
    "df_2d['z1'] = z1\n",
    "df_2d['z2'] = z2"
   ]
  },
  {
   "cell_type": "markdown",
   "id": "7c02f61b",
   "metadata": {},
   "source": [
    "### Good job! We were able to convert 9 dimensions to 2 dimensions while hopefully retaining most of the information. In the next task we will check how much % of variance is explained by new components z1 and z2"
   ]
  },
  {
   "cell_type": "markdown",
   "id": "092932bc",
   "metadata": {},
   "source": [
    "### Task 6: What % of the variance in the Data is explained by the new dimensions z1 and z2"
   ]
  },
  {
   "cell_type": "code",
   "execution_count": 11,
   "id": "a8c38628",
   "metadata": {},
   "outputs": [
    {
     "data": {
      "text/plain": [
       "63"
      ]
     },
     "execution_count": 11,
     "metadata": {},
     "output_type": "execute_result"
    }
   ],
   "source": [
    "round(pca.explained_variance_ratio_.sum()*100)"
   ]
  },
  {
   "cell_type": "markdown",
   "id": "ad3ca68a",
   "metadata": {},
   "source": [
    "### Task 7: Recall that z1 and z2 are linear combinations of original dimensions. Eg: Z = α1*x1+ α2*x2+...α9*x9. Try to get the values of these weights α1,α2,...α9. How to interpret these? "
   ]
  },
  {
   "cell_type": "code",
   "execution_count": 12,
   "id": "6ceb1554",
   "metadata": {},
   "outputs": [
    {
     "data": {
      "text/plain": [
       "array([[-0.41951945,  0.28389698,  0.15083782,  0.16148244,  0.39844111,\n",
       "        -0.19317293,  0.42583938, -0.40372896,  0.39264482],\n",
       "       [ 0.19288394,  0.61316349, -0.24308678,  0.67182064,  0.02253553,\n",
       "        -0.00840447, -0.22270674,  0.15523311, -0.0460224 ]])"
      ]
     },
     "execution_count": 12,
     "metadata": {},
     "output_type": "execute_result"
    }
   ],
   "source": [
    "pca.components_"
   ]
  },
  {
   "cell_type": "code",
   "execution_count": 13,
   "id": "f017e8c0",
   "metadata": {},
   "outputs": [],
   "source": [
    "features = ['child_mort', 'exports', 'health', 'imports', 'income', \n",
    "            'inflation', 'life_expec', 'total_fer', 'gdpp']"
   ]
  },
  {
   "cell_type": "code",
   "execution_count": 14,
   "id": "3338b18c",
   "metadata": {},
   "outputs": [],
   "source": [
    "# Display the loadings\n",
    "loadings = pd.DataFrame(pca.components_.T, columns=['z1', 'z2'], index=features)"
   ]
  },
  {
   "cell_type": "code",
   "execution_count": 18,
   "id": "63ed48bf",
   "metadata": {},
   "outputs": [
    {
     "data": {
      "text/html": [
       "<div>\n",
       "<style scoped>\n",
       "    .dataframe tbody tr th:only-of-type {\n",
       "        vertical-align: middle;\n",
       "    }\n",
       "\n",
       "    .dataframe tbody tr th {\n",
       "        vertical-align: top;\n",
       "    }\n",
       "\n",
       "    .dataframe thead th {\n",
       "        text-align: right;\n",
       "    }\n",
       "</style>\n",
       "<table border=\"1\" class=\"dataframe\">\n",
       "  <thead>\n",
       "    <tr style=\"text-align: right;\">\n",
       "      <th></th>\n",
       "      <th>Country</th>\n",
       "      <th>z1</th>\n",
       "      <th>z2</th>\n",
       "    </tr>\n",
       "  </thead>\n",
       "  <tbody>\n",
       "    <tr>\n",
       "      <th>0</th>\n",
       "      <td>Afghanistan</td>\n",
       "      <td>-2.913025</td>\n",
       "      <td>0.095621</td>\n",
       "    </tr>\n",
       "    <tr>\n",
       "      <th>1</th>\n",
       "      <td>Albania</td>\n",
       "      <td>0.429911</td>\n",
       "      <td>-0.588156</td>\n",
       "    </tr>\n",
       "    <tr>\n",
       "      <th>2</th>\n",
       "      <td>Algeria</td>\n",
       "      <td>-0.285225</td>\n",
       "      <td>-0.455174</td>\n",
       "    </tr>\n",
       "    <tr>\n",
       "      <th>3</th>\n",
       "      <td>Angola</td>\n",
       "      <td>-2.932423</td>\n",
       "      <td>1.695555</td>\n",
       "    </tr>\n",
       "    <tr>\n",
       "      <th>4</th>\n",
       "      <td>Antigua and Barbuda</td>\n",
       "      <td>1.033576</td>\n",
       "      <td>0.136659</td>\n",
       "    </tr>\n",
       "    <tr>\n",
       "      <th>...</th>\n",
       "      <td>...</td>\n",
       "      <td>...</td>\n",
       "      <td>...</td>\n",
       "    </tr>\n",
       "    <tr>\n",
       "      <th>162</th>\n",
       "      <td>Vanuatu</td>\n",
       "      <td>-0.820631</td>\n",
       "      <td>0.639570</td>\n",
       "    </tr>\n",
       "    <tr>\n",
       "      <th>163</th>\n",
       "      <td>Venezuela</td>\n",
       "      <td>-0.551036</td>\n",
       "      <td>-1.233886</td>\n",
       "    </tr>\n",
       "    <tr>\n",
       "      <th>164</th>\n",
       "      <td>Vietnam</td>\n",
       "      <td>0.498524</td>\n",
       "      <td>1.390744</td>\n",
       "    </tr>\n",
       "    <tr>\n",
       "      <th>165</th>\n",
       "      <td>Yemen</td>\n",
       "      <td>-1.887451</td>\n",
       "      <td>-0.109453</td>\n",
       "    </tr>\n",
       "    <tr>\n",
       "      <th>166</th>\n",
       "      <td>Zambia</td>\n",
       "      <td>-2.864064</td>\n",
       "      <td>0.485998</td>\n",
       "    </tr>\n",
       "  </tbody>\n",
       "</table>\n",
       "<p>167 rows × 3 columns</p>\n",
       "</div>"
      ],
      "text/plain": [
       "                 Country        z1        z2\n",
       "0            Afghanistan -2.913025  0.095621\n",
       "1                Albania  0.429911 -0.588156\n",
       "2                Algeria -0.285225 -0.455174\n",
       "3                 Angola -2.932423  1.695555\n",
       "4    Antigua and Barbuda  1.033576  0.136659\n",
       "..                   ...       ...       ...\n",
       "162              Vanuatu -0.820631  0.639570\n",
       "163            Venezuela -0.551036 -1.233886\n",
       "164              Vietnam  0.498524  1.390744\n",
       "165                Yemen -1.887451 -0.109453\n",
       "166               Zambia -2.864064  0.485998\n",
       "\n",
       "[167 rows x 3 columns]"
      ]
     },
     "execution_count": 18,
     "metadata": {},
     "output_type": "execute_result"
    }
   ],
   "source": [
    "df_2d"
   ]
  },
  {
   "cell_type": "code",
   "execution_count": 16,
   "id": "6a8cc0cc",
   "metadata": {},
   "outputs": [
    {
     "data": {
      "text/html": [
       "<div>\n",
       "<style scoped>\n",
       "    .dataframe tbody tr th:only-of-type {\n",
       "        vertical-align: middle;\n",
       "    }\n",
       "\n",
       "    .dataframe tbody tr th {\n",
       "        vertical-align: top;\n",
       "    }\n",
       "\n",
       "    .dataframe thead th {\n",
       "        text-align: right;\n",
       "    }\n",
       "</style>\n",
       "<table border=\"1\" class=\"dataframe\">\n",
       "  <thead>\n",
       "    <tr style=\"text-align: right;\">\n",
       "      <th></th>\n",
       "      <th>z1</th>\n",
       "      <th>z2</th>\n",
       "    </tr>\n",
       "  </thead>\n",
       "  <tbody>\n",
       "    <tr>\n",
       "      <th>child_mort</th>\n",
       "      <td>-0.419519</td>\n",
       "      <td>0.192884</td>\n",
       "    </tr>\n",
       "    <tr>\n",
       "      <th>exports</th>\n",
       "      <td>0.283897</td>\n",
       "      <td>0.613163</td>\n",
       "    </tr>\n",
       "    <tr>\n",
       "      <th>health</th>\n",
       "      <td>0.150838</td>\n",
       "      <td>-0.243087</td>\n",
       "    </tr>\n",
       "    <tr>\n",
       "      <th>imports</th>\n",
       "      <td>0.161482</td>\n",
       "      <td>0.671821</td>\n",
       "    </tr>\n",
       "    <tr>\n",
       "      <th>income</th>\n",
       "      <td>0.398441</td>\n",
       "      <td>0.022536</td>\n",
       "    </tr>\n",
       "    <tr>\n",
       "      <th>inflation</th>\n",
       "      <td>-0.193173</td>\n",
       "      <td>-0.008404</td>\n",
       "    </tr>\n",
       "    <tr>\n",
       "      <th>life_expec</th>\n",
       "      <td>0.425839</td>\n",
       "      <td>-0.222707</td>\n",
       "    </tr>\n",
       "    <tr>\n",
       "      <th>total_fer</th>\n",
       "      <td>-0.403729</td>\n",
       "      <td>0.155233</td>\n",
       "    </tr>\n",
       "    <tr>\n",
       "      <th>gdpp</th>\n",
       "      <td>0.392645</td>\n",
       "      <td>-0.046022</td>\n",
       "    </tr>\n",
       "  </tbody>\n",
       "</table>\n",
       "</div>"
      ],
      "text/plain": [
       "                  z1        z2\n",
       "child_mort -0.419519  0.192884\n",
       "exports     0.283897  0.613163\n",
       "health      0.150838 -0.243087\n",
       "imports     0.161482  0.671821\n",
       "income      0.398441  0.022536\n",
       "inflation  -0.193173 -0.008404\n",
       "life_expec  0.425839 -0.222707\n",
       "total_fer  -0.403729  0.155233\n",
       "gdpp        0.392645 -0.046022"
      ]
     },
     "execution_count": 16,
     "metadata": {},
     "output_type": "execute_result"
    }
   ],
   "source": [
    "loadings"
   ]
  },
  {
   "cell_type": "code",
   "execution_count": 15,
   "id": "43692774",
   "metadata": {},
   "outputs": [
    {
     "data": {
      "text/plain": [
       "life_expec    0.425839\n",
       "income        0.398441\n",
       "gdpp          0.392645\n",
       "exports       0.283897\n",
       "imports       0.161482\n",
       "health        0.150838\n",
       "inflation    -0.193173\n",
       "total_fer    -0.403729\n",
       "child_mort   -0.419519\n",
       "Name: z1, dtype: float64"
      ]
     },
     "execution_count": 15,
     "metadata": {},
     "output_type": "execute_result"
    }
   ],
   "source": [
    "loadings['z1'].sort_values(ascending=False)"
   ]
  },
  {
   "cell_type": "code",
   "execution_count": 38,
   "id": "9c33b82b",
   "metadata": {},
   "outputs": [
    {
     "data": {
      "text/plain": [
       "imports       0.671821\n",
       "exports       0.613163\n",
       "child_mort    0.192884\n",
       "total_fer     0.155233\n",
       "income        0.022536\n",
       "inflation    -0.008404\n",
       "gdpp         -0.046022\n",
       "life_expec   -0.222707\n",
       "health       -0.243087\n",
       "Name: z2, dtype: float64"
      ]
     },
     "execution_count": 38,
     "metadata": {},
     "output_type": "execute_result"
    }
   ],
   "source": [
    "loadings['z2'].sort_values(ascending=False)"
   ]
  },
  {
   "cell_type": "markdown",
   "id": "db973c8a",
   "metadata": {},
   "source": [
    "### z1\n",
    "**Higher values of z1 represent countries with higher life expectancy and income. Also that represents countries with lower child_mortal,total_fer.**\n",
    "\n",
    "\n",
    "### Hence z1 might be thought of as a variable representing country's \"Economic and heath  prosperity\"\n",
    "\n",
    "### z2\n",
    "**Higher values of z2 represent countries with higher imports, exports. Also that represents countries with lower health and life expectancy**\n",
    "\n",
    "### Hence z2 might be thought of as a variable representing country's \"Trade Activity and Overall Health\"\n"
   ]
  },
  {
   "cell_type": "code",
   "execution_count": 20,
   "id": "f06586c6",
   "metadata": {},
   "outputs": [],
   "source": [
    "from sklearn.cluster import KMeans\n",
    "import matplotlib.pyplot as plt"
   ]
  },
  {
   "cell_type": "code",
   "execution_count": 22,
   "id": "efb35fae",
   "metadata": {},
   "outputs": [
    {
     "data": {
      "text/html": [
       "<div>\n",
       "<style scoped>\n",
       "    .dataframe tbody tr th:only-of-type {\n",
       "        vertical-align: middle;\n",
       "    }\n",
       "\n",
       "    .dataframe tbody tr th {\n",
       "        vertical-align: top;\n",
       "    }\n",
       "\n",
       "    .dataframe thead th {\n",
       "        text-align: right;\n",
       "    }\n",
       "</style>\n",
       "<table border=\"1\" class=\"dataframe\">\n",
       "  <thead>\n",
       "    <tr style=\"text-align: right;\">\n",
       "      <th></th>\n",
       "      <th>Country</th>\n",
       "      <th>z1</th>\n",
       "      <th>z2</th>\n",
       "    </tr>\n",
       "  </thead>\n",
       "  <tbody>\n",
       "    <tr>\n",
       "      <th>0</th>\n",
       "      <td>Afghanistan</td>\n",
       "      <td>-2.913025</td>\n",
       "      <td>0.095621</td>\n",
       "    </tr>\n",
       "    <tr>\n",
       "      <th>1</th>\n",
       "      <td>Albania</td>\n",
       "      <td>0.429911</td>\n",
       "      <td>-0.588156</td>\n",
       "    </tr>\n",
       "    <tr>\n",
       "      <th>2</th>\n",
       "      <td>Algeria</td>\n",
       "      <td>-0.285225</td>\n",
       "      <td>-0.455174</td>\n",
       "    </tr>\n",
       "    <tr>\n",
       "      <th>3</th>\n",
       "      <td>Angola</td>\n",
       "      <td>-2.932423</td>\n",
       "      <td>1.695555</td>\n",
       "    </tr>\n",
       "    <tr>\n",
       "      <th>4</th>\n",
       "      <td>Antigua and Barbuda</td>\n",
       "      <td>1.033576</td>\n",
       "      <td>0.136659</td>\n",
       "    </tr>\n",
       "    <tr>\n",
       "      <th>...</th>\n",
       "      <td>...</td>\n",
       "      <td>...</td>\n",
       "      <td>...</td>\n",
       "    </tr>\n",
       "    <tr>\n",
       "      <th>162</th>\n",
       "      <td>Vanuatu</td>\n",
       "      <td>-0.820631</td>\n",
       "      <td>0.639570</td>\n",
       "    </tr>\n",
       "    <tr>\n",
       "      <th>163</th>\n",
       "      <td>Venezuela</td>\n",
       "      <td>-0.551036</td>\n",
       "      <td>-1.233886</td>\n",
       "    </tr>\n",
       "    <tr>\n",
       "      <th>164</th>\n",
       "      <td>Vietnam</td>\n",
       "      <td>0.498524</td>\n",
       "      <td>1.390744</td>\n",
       "    </tr>\n",
       "    <tr>\n",
       "      <th>165</th>\n",
       "      <td>Yemen</td>\n",
       "      <td>-1.887451</td>\n",
       "      <td>-0.109453</td>\n",
       "    </tr>\n",
       "    <tr>\n",
       "      <th>166</th>\n",
       "      <td>Zambia</td>\n",
       "      <td>-2.864064</td>\n",
       "      <td>0.485998</td>\n",
       "    </tr>\n",
       "  </tbody>\n",
       "</table>\n",
       "<p>167 rows × 3 columns</p>\n",
       "</div>"
      ],
      "text/plain": [
       "                 Country        z1        z2\n",
       "0            Afghanistan -2.913025  0.095621\n",
       "1                Albania  0.429911 -0.588156\n",
       "2                Algeria -0.285225 -0.455174\n",
       "3                 Angola -2.932423  1.695555\n",
       "4    Antigua and Barbuda  1.033576  0.136659\n",
       "..                   ...       ...       ...\n",
       "162              Vanuatu -0.820631  0.639570\n",
       "163            Venezuela -0.551036 -1.233886\n",
       "164              Vietnam  0.498524  1.390744\n",
       "165                Yemen -1.887451 -0.109453\n",
       "166               Zambia -2.864064  0.485998\n",
       "\n",
       "[167 rows x 3 columns]"
      ]
     },
     "execution_count": 22,
     "metadata": {},
     "output_type": "execute_result"
    }
   ],
   "source": [
    "df_2d"
   ]
  },
  {
   "cell_type": "code",
   "execution_count": null,
   "id": "3ac23b4c",
   "metadata": {},
   "outputs": [],
   "source": []
  },
  {
   "cell_type": "code",
   "execution_count": null,
   "id": "01f4624f",
   "metadata": {},
   "outputs": [],
   "source": []
  }
 ],
 "metadata": {
  "kernelspec": {
   "display_name": "Python 3 (ipykernel)",
   "language": "python",
   "name": "python3"
  },
  "language_info": {
   "codemirror_mode": {
    "name": "ipython",
    "version": 3
   },
   "file_extension": ".py",
   "mimetype": "text/x-python",
   "name": "python",
   "nbconvert_exporter": "python",
   "pygments_lexer": "ipython3",
   "version": "3.11.5"
  }
 },
 "nbformat": 4,
 "nbformat_minor": 5
}
